{
 "cells": [
  {
   "cell_type": "markdown",
   "metadata": {},
   "source": [
    "# De schakers populatie onder de loep\n",
    "De data die wij hier voor ons hebben is de KNSB ratinglijst van mei 2020. De vragen die wij aan deze data kunnen stellen is groot, en het leukste is om te kijken naar de dingen die schakers nog niet over zichzelf weten. \n",
    "\n",
    "Om de analyses het beste uit te voeren kijken we naar de data van iedereen die een rating heeft. "
   ]
  },
  {
   "cell_type": "code",
   "execution_count": 1,
   "metadata": {
    "ExecuteTime": {
     "end_time": "2020-07-12T20:25:44.953152Z",
     "start_time": "2020-07-12T20:25:42.459714Z"
    }
   },
   "outputs": [],
   "source": [
    "#Importeren van de libraries\n",
    "import pandas as pd\n",
    "import numpy as np\n",
    "import matplotlib.pyplot as plt\n",
    "\n",
    "#We lezen hier de ratings van de nederlandse spelers in.\n",
    "ratings = pd.read_csv(\"2020-05-KNSB.csv\", sep=',;',engine='python', header = None)"
   ]
  },
  {
   "cell_type": "code",
   "execution_count": 2,
   "metadata": {
    "ExecuteTime": {
     "end_time": "2020-07-12T20:25:44.978630Z",
     "start_time": "2020-07-12T20:25:44.956210Z"
    }
   },
   "outputs": [
    {
     "data": {
      "text/html": [
       "<div>\n",
       "<style scoped>\n",
       "    .dataframe tbody tr th:only-of-type {\n",
       "        vertical-align: middle;\n",
       "    }\n",
       "\n",
       "    .dataframe tbody tr th {\n",
       "        vertical-align: top;\n",
       "    }\n",
       "\n",
       "    .dataframe thead th {\n",
       "        text-align: right;\n",
       "    }\n",
       "</style>\n",
       "<table border=\"1\" class=\"dataframe\">\n",
       "  <thead>\n",
       "    <tr style=\"text-align: right;\">\n",
       "      <th></th>\n",
       "      <th>0</th>\n",
       "    </tr>\n",
       "  </thead>\n",
       "  <tbody>\n",
       "    <tr>\n",
       "      <th>0</th>\n",
       "      <td>8744791;Aafjes, Daan;;NED;1138;84;1973;;</td>\n",
       "    </tr>\n",
       "    <tr>\n",
       "      <th>1</th>\n",
       "      <td>7998903;Aafjes, Dirk;;NED;1393;100;1962;;</td>\n",
       "    </tr>\n",
       "    <tr>\n",
       "      <th>2</th>\n",
       "      <td>7107089;Aafjes, Kees;;NED;945;54;1939;Geen (ra...</td>\n",
       "    </tr>\n",
       "    <tr>\n",
       "      <th>3</th>\n",
       "      <td>8498083;Aafjes, Remi;;NED;1547;100;1997;;</td>\n",
       "    </tr>\n",
       "    <tr>\n",
       "      <th>4</th>\n",
       "      <td>7609844;Aagaard, Michael;;NED;2030;100;1960;;</td>\n",
       "    </tr>\n",
       "  </tbody>\n",
       "</table>\n",
       "</div>"
      ],
      "text/plain": [
       "                                                   0\n",
       "0           8744791;Aafjes, Daan;;NED;1138;84;1973;;\n",
       "1          7998903;Aafjes, Dirk;;NED;1393;100;1962;;\n",
       "2  7107089;Aafjes, Kees;;NED;945;54;1939;Geen (ra...\n",
       "3          8498083;Aafjes, Remi;;NED;1547;100;1997;;\n",
       "4      7609844;Aagaard, Michael;;NED;2030;100;1960;;"
      ]
     },
     "execution_count": 2,
     "metadata": {},
     "output_type": "execute_result"
    }
   ],
   "source": [
    "ratings.head()"
   ]
  },
  {
   "cell_type": "code",
   "execution_count": 3,
   "metadata": {
    "ExecuteTime": {
     "end_time": "2020-07-12T20:25:45.102014Z",
     "start_time": "2020-07-12T20:25:44.982932Z"
    }
   },
   "outputs": [
    {
     "data": {
      "text/plain": [
       "0    [8744791, Aafjes, Daan, , NED, 1138, 84, 1973,...\n",
       "1    [7998903, Aafjes, Dirk, , NED, 1393, 100, 1962...\n",
       "2    [7107089, Aafjes, Kees, , NED, 945, 54, 1939, ...\n",
       "3    [8498083, Aafjes, Remi, , NED, 1547, 100, 1997...\n",
       "4    [7609844, Aagaard, Michael, , NED, 2030, 100, ...\n",
       "Name: 0, dtype: object"
      ]
     },
     "execution_count": 3,
     "metadata": {},
     "output_type": "execute_result"
    }
   ],
   "source": [
    "#De file waar we mee beginnen is nog niet echt werkbaar. We hebben nog geen kolomnamen.\n",
    "ratings = ratings[0].str.split(';')\n",
    "ratings.head()\n"
   ]
  },
  {
   "cell_type": "code",
   "execution_count": 4,
   "metadata": {
    "ExecuteTime": {
     "end_time": "2020-07-12T20:25:45.222435Z",
     "start_time": "2020-07-12T20:25:45.107645Z"
    }
   },
   "outputs": [
    {
     "data": {
      "text/html": [
       "<div>\n",
       "<style scoped>\n",
       "    .dataframe tbody tr th:only-of-type {\n",
       "        vertical-align: middle;\n",
       "    }\n",
       "\n",
       "    .dataframe tbody tr th {\n",
       "        vertical-align: top;\n",
       "    }\n",
       "\n",
       "    .dataframe thead th {\n",
       "        text-align: right;\n",
       "    }\n",
       "</style>\n",
       "<table border=\"1\" class=\"dataframe\">\n",
       "  <thead>\n",
       "    <tr style=\"text-align: right;\">\n",
       "      <th></th>\n",
       "      <th>0</th>\n",
       "      <th>1</th>\n",
       "      <th>2</th>\n",
       "      <th>3</th>\n",
       "      <th>4</th>\n",
       "      <th>5</th>\n",
       "      <th>6</th>\n",
       "      <th>7</th>\n",
       "      <th>8</th>\n",
       "    </tr>\n",
       "  </thead>\n",
       "  <tbody>\n",
       "    <tr>\n",
       "      <th>0</th>\n",
       "      <td>8744791</td>\n",
       "      <td>Aafjes, Daan</td>\n",
       "      <td></td>\n",
       "      <td>NED</td>\n",
       "      <td>1138</td>\n",
       "      <td>84</td>\n",
       "      <td>1973</td>\n",
       "      <td></td>\n",
       "      <td></td>\n",
       "    </tr>\n",
       "    <tr>\n",
       "      <th>1</th>\n",
       "      <td>7998903</td>\n",
       "      <td>Aafjes, Dirk</td>\n",
       "      <td></td>\n",
       "      <td>NED</td>\n",
       "      <td>1393</td>\n",
       "      <td>100</td>\n",
       "      <td>1962</td>\n",
       "      <td></td>\n",
       "      <td></td>\n",
       "    </tr>\n",
       "    <tr>\n",
       "      <th>2</th>\n",
       "      <td>7107089</td>\n",
       "      <td>Aafjes, Kees</td>\n",
       "      <td></td>\n",
       "      <td>NED</td>\n",
       "      <td>945</td>\n",
       "      <td>54</td>\n",
       "      <td>1939</td>\n",
       "      <td>Geen (rating)lid</td>\n",
       "      <td></td>\n",
       "    </tr>\n",
       "    <tr>\n",
       "      <th>3</th>\n",
       "      <td>8498083</td>\n",
       "      <td>Aafjes, Remi</td>\n",
       "      <td></td>\n",
       "      <td>NED</td>\n",
       "      <td>1547</td>\n",
       "      <td>100</td>\n",
       "      <td>1997</td>\n",
       "      <td></td>\n",
       "      <td></td>\n",
       "    </tr>\n",
       "    <tr>\n",
       "      <th>4</th>\n",
       "      <td>7609844</td>\n",
       "      <td>Aagaard, Michael</td>\n",
       "      <td></td>\n",
       "      <td>NED</td>\n",
       "      <td>2030</td>\n",
       "      <td>100</td>\n",
       "      <td>1960</td>\n",
       "      <td></td>\n",
       "      <td></td>\n",
       "    </tr>\n",
       "  </tbody>\n",
       "</table>\n",
       "</div>"
      ],
      "text/plain": [
       "         0                 1 2    3     4    5     6                 7 8\n",
       "0  8744791      Aafjes, Daan    NED  1138   84  1973                    \n",
       "1  7998903      Aafjes, Dirk    NED  1393  100  1962                    \n",
       "2  7107089      Aafjes, Kees    NED   945   54  1939  Geen (rating)lid  \n",
       "3  8498083      Aafjes, Remi    NED  1547  100  1997                    \n",
       "4  7609844  Aagaard, Michael    NED  2030  100  1960                    "
      ]
     },
     "execution_count": 4,
     "metadata": {},
     "output_type": "execute_result"
    }
   ],
   "source": [
    "#Eerst maken we een lijst van de lijsten, en dan kan het naar een dataframe. \n",
    "ratings = ratings.tolist()\n",
    "ratings = pd.DataFrame(ratings)\n",
    "ratings.head()"
   ]
  },
  {
   "cell_type": "code",
   "execution_count": 5,
   "metadata": {
    "ExecuteTime": {
     "end_time": "2020-07-12T20:25:45.243441Z",
     "start_time": "2020-07-12T20:25:45.225544Z"
    }
   },
   "outputs": [
    {
     "data": {
      "text/plain": [
       "      31060\n",
       "f       213\n",
       "m       131\n",
       "g        79\n",
       "c        41\n",
       "wm       15\n",
       "wg        5\n",
       "Name: 2, dtype: int64"
      ]
     },
     "execution_count": 5,
     "metadata": {},
     "output_type": "execute_result"
    }
   ],
   "source": [
    "#Nu wordt het tijd om the checken wat de lege vakken zijn. En of ze wel leeg zijn!\n",
    "ratings[2].value_counts(dropna=False) #Kolom 2 staat voor titel"
   ]
  },
  {
   "cell_type": "code",
   "execution_count": 6,
   "metadata": {
    "ExecuteTime": {
     "end_time": "2020-07-12T20:25:45.267544Z",
     "start_time": "2020-07-12T20:25:45.248235Z"
    }
   },
   "outputs": [
    {
     "data": {
      "text/plain": [
       "                      17122\n",
       "Geen (rating)lid      12016\n",
       "w                      1699\n",
       "Geen (rating)lid,w      707\n",
       "Name: 7, dtype: int64"
      ]
     },
     "execution_count": 6,
     "metadata": {},
     "output_type": "execute_result"
    }
   ],
   "source": [
    "ratings[7].value_counts() #Dit is nog een raadselachtig veld omdat we niet weten waar w voor staat. "
   ]
  },
  {
   "cell_type": "code",
   "execution_count": 7,
   "metadata": {
    "ExecuteTime": {
     "end_time": "2020-07-12T20:25:45.293041Z",
     "start_time": "2020-07-12T20:25:45.272907Z"
    }
   },
   "outputs": [
    {
     "data": {
      "text/plain": [
       "    31544\n",
       "Name: 8, dtype: int64"
      ]
     },
     "execution_count": 7,
     "metadata": {},
     "output_type": "execute_result"
    }
   ],
   "source": [
    "ratings[8].value_counts() #kolom 8 is leeg, dus die mag weg."
   ]
  },
  {
   "cell_type": "code",
   "execution_count": 8,
   "metadata": {
    "ExecuteTime": {
     "end_time": "2020-07-12T20:25:45.317145Z",
     "start_time": "2020-07-12T20:25:45.298396Z"
    }
   },
   "outputs": [
    {
     "data": {
      "text/plain": [
       "100    8690\n",
       "0      7820\n",
       "9      5132\n",
       "70      514\n",
       "90      431\n",
       "       ... \n",
       "99       36\n",
       "78       35\n",
       "98       35\n",
       "95       33\n",
       "92       30\n",
       "Name: 5, Length: 96, dtype: int64"
      ]
     },
     "execution_count": 8,
     "metadata": {},
     "output_type": "execute_result"
    }
   ],
   "source": [
    "ratings[5].value_counts() #Dit is voor nu ook een vrij raadselachtige kolom.\n",
    "#Na wat opzoeken is het het totaal aantal gespeelde patijen, ooit. Waar 100, 100+ is."
   ]
  },
  {
   "cell_type": "code",
   "execution_count": 9,
   "metadata": {
    "ExecuteTime": {
     "end_time": "2020-07-12T20:25:45.353013Z",
     "start_time": "2020-07-12T20:25:45.321082Z"
    }
   },
   "outputs": [
    {
     "data": {
      "text/html": [
       "<div>\n",
       "<style scoped>\n",
       "    .dataframe tbody tr th:only-of-type {\n",
       "        vertical-align: middle;\n",
       "    }\n",
       "\n",
       "    .dataframe tbody tr th {\n",
       "        vertical-align: top;\n",
       "    }\n",
       "\n",
       "    .dataframe thead th {\n",
       "        text-align: right;\n",
       "    }\n",
       "</style>\n",
       "<table border=\"1\" class=\"dataframe\">\n",
       "  <thead>\n",
       "    <tr style=\"text-align: right;\">\n",
       "      <th></th>\n",
       "      <th>ID</th>\n",
       "      <th>naam</th>\n",
       "      <th>titel</th>\n",
       "      <th>nat.</th>\n",
       "      <th>rating</th>\n",
       "      <th>tot_partijen</th>\n",
       "      <th>geb_jr</th>\n",
       "      <th>lid</th>\n",
       "      <th>x</th>\n",
       "    </tr>\n",
       "  </thead>\n",
       "  <tbody>\n",
       "    <tr>\n",
       "      <th>0</th>\n",
       "      <td>8744791</td>\n",
       "      <td>Aafjes, Daan</td>\n",
       "      <td></td>\n",
       "      <td>NED</td>\n",
       "      <td>1138</td>\n",
       "      <td>84</td>\n",
       "      <td>1973</td>\n",
       "      <td></td>\n",
       "      <td></td>\n",
       "    </tr>\n",
       "    <tr>\n",
       "      <th>1</th>\n",
       "      <td>7998903</td>\n",
       "      <td>Aafjes, Dirk</td>\n",
       "      <td></td>\n",
       "      <td>NED</td>\n",
       "      <td>1393</td>\n",
       "      <td>100</td>\n",
       "      <td>1962</td>\n",
       "      <td></td>\n",
       "      <td></td>\n",
       "    </tr>\n",
       "    <tr>\n",
       "      <th>2</th>\n",
       "      <td>7107089</td>\n",
       "      <td>Aafjes, Kees</td>\n",
       "      <td></td>\n",
       "      <td>NED</td>\n",
       "      <td>945</td>\n",
       "      <td>54</td>\n",
       "      <td>1939</td>\n",
       "      <td>Geen (rating)lid</td>\n",
       "      <td></td>\n",
       "    </tr>\n",
       "    <tr>\n",
       "      <th>3</th>\n",
       "      <td>8498083</td>\n",
       "      <td>Aafjes, Remi</td>\n",
       "      <td></td>\n",
       "      <td>NED</td>\n",
       "      <td>1547</td>\n",
       "      <td>100</td>\n",
       "      <td>1997</td>\n",
       "      <td></td>\n",
       "      <td></td>\n",
       "    </tr>\n",
       "    <tr>\n",
       "      <th>4</th>\n",
       "      <td>7609844</td>\n",
       "      <td>Aagaard, Michael</td>\n",
       "      <td></td>\n",
       "      <td>NED</td>\n",
       "      <td>2030</td>\n",
       "      <td>100</td>\n",
       "      <td>1960</td>\n",
       "      <td></td>\n",
       "      <td></td>\n",
       "    </tr>\n",
       "  </tbody>\n",
       "</table>\n",
       "</div>"
      ],
      "text/plain": [
       "        ID              naam titel nat. rating tot_partijen geb_jr  \\\n",
       "0  8744791      Aafjes, Daan        NED   1138           84   1973   \n",
       "1  7998903      Aafjes, Dirk        NED   1393          100   1962   \n",
       "2  7107089      Aafjes, Kees        NED    945           54   1939   \n",
       "3  8498083      Aafjes, Remi        NED   1547          100   1997   \n",
       "4  7609844  Aagaard, Michael        NED   2030          100   1960   \n",
       "\n",
       "                lid x  \n",
       "0                      \n",
       "1                      \n",
       "2  Geen (rating)lid    \n",
       "3                      \n",
       "4                      "
      ]
     },
     "execution_count": 9,
     "metadata": {},
     "output_type": "execute_result"
    }
   ],
   "source": [
    "#Even wat namen aan de kolommen geven.\n",
    "ratings.columns = ['ID','naam','titel','nat.','rating','tot_partijen','geb_jr', 'lid', 'x']\n",
    "ratings.head()"
   ]
  },
  {
   "cell_type": "code",
   "execution_count": 10,
   "metadata": {
    "ExecuteTime": {
     "end_time": "2020-07-12T20:25:45.403052Z",
     "start_time": "2020-07-12T20:25:45.356298Z"
    }
   },
   "outputs": [
    {
     "data": {
      "text/html": [
       "<div>\n",
       "<style scoped>\n",
       "    .dataframe tbody tr th:only-of-type {\n",
       "        vertical-align: middle;\n",
       "    }\n",
       "\n",
       "    .dataframe tbody tr th {\n",
       "        vertical-align: top;\n",
       "    }\n",
       "\n",
       "    .dataframe thead th {\n",
       "        text-align: right;\n",
       "    }\n",
       "</style>\n",
       "<table border=\"1\" class=\"dataframe\">\n",
       "  <thead>\n",
       "    <tr style=\"text-align: right;\">\n",
       "      <th></th>\n",
       "      <th>ID</th>\n",
       "      <th>naam</th>\n",
       "      <th>titel</th>\n",
       "      <th>nat.</th>\n",
       "      <th>rating</th>\n",
       "      <th>tot_partijen</th>\n",
       "      <th>geb_jr</th>\n",
       "      <th>lid</th>\n",
       "      <th>x</th>\n",
       "    </tr>\n",
       "  </thead>\n",
       "  <tbody>\n",
       "    <tr>\n",
       "      <th>12</th>\n",
       "      <td>8738785</td>\n",
       "      <td>Aalbers, Senne</td>\n",
       "      <td></td>\n",
       "      <td>NED</td>\n",
       "      <td></td>\n",
       "      <td>0</td>\n",
       "      <td>2009</td>\n",
       "      <td>w</td>\n",
       "      <td></td>\n",
       "    </tr>\n",
       "    <tr>\n",
       "      <th>17</th>\n",
       "      <td>8876538</td>\n",
       "      <td>Aalbregt, Liene</td>\n",
       "      <td></td>\n",
       "      <td>NED</td>\n",
       "      <td></td>\n",
       "      <td>0</td>\n",
       "      <td>2012</td>\n",
       "      <td>w</td>\n",
       "      <td></td>\n",
       "    </tr>\n",
       "    <tr>\n",
       "      <th>31</th>\n",
       "      <td>8901860</td>\n",
       "      <td>Aarab, Farah</td>\n",
       "      <td></td>\n",
       "      <td>NED</td>\n",
       "      <td></td>\n",
       "      <td>0</td>\n",
       "      <td>2013</td>\n",
       "      <td>w</td>\n",
       "      <td></td>\n",
       "    </tr>\n",
       "    <tr>\n",
       "      <th>38</th>\n",
       "      <td>8900573</td>\n",
       "      <td>Aardewijn, Dite</td>\n",
       "      <td></td>\n",
       "      <td>NED</td>\n",
       "      <td></td>\n",
       "      <td>0</td>\n",
       "      <td>2009</td>\n",
       "      <td>w</td>\n",
       "      <td></td>\n",
       "    </tr>\n",
       "    <tr>\n",
       "      <th>48</th>\n",
       "      <td>8538442</td>\n",
       "      <td>Aarten, Marjolein</td>\n",
       "      <td></td>\n",
       "      <td>NED</td>\n",
       "      <td>1414</td>\n",
       "      <td>100</td>\n",
       "      <td>1981</td>\n",
       "      <td>w</td>\n",
       "      <td></td>\n",
       "    </tr>\n",
       "  </tbody>\n",
       "</table>\n",
       "</div>"
      ],
      "text/plain": [
       "         ID               naam titel nat. rating tot_partijen geb_jr lid x\n",
       "12  8738785     Aalbers, Senne        NED                   0   2009   w  \n",
       "17  8876538    Aalbregt, Liene        NED                   0   2012   w  \n",
       "31  8901860       Aarab, Farah        NED                   0   2013   w  \n",
       "38  8900573    Aardewijn, Dite        NED                   0   2009   w  \n",
       "48  8538442  Aarten, Marjolein        NED   1414          100   1981   w  "
      ]
     },
     "execution_count": 10,
     "metadata": {},
     "output_type": "execute_result"
    }
   ],
   "source": [
    "ratings[ratings['lid']=='w'].head() #Aha, w staat voor het geslacht. Dit zijn zeker meisjesnamen."
   ]
  },
  {
   "cell_type": "markdown",
   "metadata": {},
   "source": [
    "## Schoonmaken\n",
    "Na het checken van de waarden kan ik met een gerust hart de volgende besluiten maken.\n",
    "* We droppen kolom x\n",
    "* We halen de waarden weg voor de mensen die geen partijen hebben gespeeld. \n",
    "* Vervolgens checken voor mensen die nog steeds geen rating hebben."
   ]
  },
  {
   "cell_type": "code",
   "execution_count": 11,
   "metadata": {
    "ExecuteTime": {
     "end_time": "2020-07-12T20:25:45.470797Z",
     "start_time": "2020-07-12T20:25:45.403312Z"
    }
   },
   "outputs": [
    {
     "data": {
      "text/html": [
       "<div>\n",
       "<style scoped>\n",
       "    .dataframe tbody tr th:only-of-type {\n",
       "        vertical-align: middle;\n",
       "    }\n",
       "\n",
       "    .dataframe tbody tr th {\n",
       "        vertical-align: top;\n",
       "    }\n",
       "\n",
       "    .dataframe thead th {\n",
       "        text-align: right;\n",
       "    }\n",
       "</style>\n",
       "<table border=\"1\" class=\"dataframe\">\n",
       "  <thead>\n",
       "    <tr style=\"text-align: right;\">\n",
       "      <th></th>\n",
       "      <th>ID</th>\n",
       "      <th>naam</th>\n",
       "      <th>titel</th>\n",
       "      <th>nat.</th>\n",
       "      <th>rating</th>\n",
       "      <th>tot_partijen</th>\n",
       "      <th>geb_jr</th>\n",
       "      <th>lid</th>\n",
       "    </tr>\n",
       "  </thead>\n",
       "  <tbody>\n",
       "    <tr>\n",
       "      <th>0</th>\n",
       "      <td>8744791</td>\n",
       "      <td>Aafjes, Daan</td>\n",
       "      <td></td>\n",
       "      <td>NED</td>\n",
       "      <td>1138</td>\n",
       "      <td>84</td>\n",
       "      <td>1973</td>\n",
       "      <td></td>\n",
       "    </tr>\n",
       "    <tr>\n",
       "      <th>1</th>\n",
       "      <td>7998903</td>\n",
       "      <td>Aafjes, Dirk</td>\n",
       "      <td></td>\n",
       "      <td>NED</td>\n",
       "      <td>1393</td>\n",
       "      <td>100</td>\n",
       "      <td>1962</td>\n",
       "      <td></td>\n",
       "    </tr>\n",
       "    <tr>\n",
       "      <th>2</th>\n",
       "      <td>7107089</td>\n",
       "      <td>Aafjes, Kees</td>\n",
       "      <td></td>\n",
       "      <td>NED</td>\n",
       "      <td>945</td>\n",
       "      <td>54</td>\n",
       "      <td>1939</td>\n",
       "      <td>Geen (rating)lid</td>\n",
       "    </tr>\n",
       "    <tr>\n",
       "      <th>3</th>\n",
       "      <td>8498083</td>\n",
       "      <td>Aafjes, Remi</td>\n",
       "      <td></td>\n",
       "      <td>NED</td>\n",
       "      <td>1547</td>\n",
       "      <td>100</td>\n",
       "      <td>1997</td>\n",
       "      <td></td>\n",
       "    </tr>\n",
       "    <tr>\n",
       "      <th>4</th>\n",
       "      <td>7609844</td>\n",
       "      <td>Aagaard, Michael</td>\n",
       "      <td></td>\n",
       "      <td>NED</td>\n",
       "      <td>2030</td>\n",
       "      <td>100</td>\n",
       "      <td>1960</td>\n",
       "      <td></td>\n",
       "    </tr>\n",
       "  </tbody>\n",
       "</table>\n",
       "</div>"
      ],
      "text/plain": [
       "        ID              naam titel nat. rating  tot_partijen geb_jr  \\\n",
       "0  8744791      Aafjes, Daan        NED   1138            84   1973   \n",
       "1  7998903      Aafjes, Dirk        NED   1393           100   1962   \n",
       "2  7107089      Aafjes, Kees        NED    945            54   1939   \n",
       "3  8498083      Aafjes, Remi        NED   1547           100   1997   \n",
       "4  7609844  Aagaard, Michael        NED   2030           100   1960   \n",
       "\n",
       "                lid  \n",
       "0                    \n",
       "1                    \n",
       "2  Geen (rating)lid  \n",
       "3                    \n",
       "4                    "
      ]
     },
     "execution_count": 11,
     "metadata": {},
     "output_type": "execute_result"
    }
   ],
   "source": [
    "ratings = ratings.drop('x', axis =1)\n",
    "ratings['tot_partijen'] = ratings['tot_partijen'].astype(int)\n",
    "ratings = ratings[ratings['tot_partijen'] > 0]\n",
    "ratings.head()"
   ]
  },
  {
   "cell_type": "code",
   "execution_count": 12,
   "metadata": {
    "ExecuteTime": {
     "end_time": "2020-07-12T20:25:45.505586Z",
     "start_time": "2020-07-12T20:25:45.474229Z"
    }
   },
   "outputs": [
    {
     "data": {
      "text/plain": [
       "800     191\n",
       "1600     67\n",
       "1546     51\n",
       "1426     51\n",
       "1557     51\n",
       "       ... \n",
       "2295      1\n",
       "853       1\n",
       "2206      1\n",
       "2581      1\n",
       "809       1\n",
       "Name: rating, Length: 1654, dtype: int64"
      ]
     },
     "execution_count": 12,
     "metadata": {},
     "output_type": "execute_result"
    }
   ],
   "source": [
    "ratings['rating'].value_counts() #Hieronder zie je, er zijn geen ratinglozen meer!"
   ]
  },
  {
   "cell_type": "code",
   "execution_count": 13,
   "metadata": {
    "ExecuteTime": {
     "end_time": "2020-07-12T20:25:45.540189Z",
     "start_time": "2020-07-12T20:25:45.506585Z"
    }
   },
   "outputs": [
    {
     "name": "stdout",
     "output_type": "stream",
     "text": [
      "Geen (rating)lid      11841\n",
      "                      10751\n",
      "Geen (rating)lid,w      706\n",
      "w                       426\n",
      "Name: lid, dtype: int64\n",
      "0.4758764164305949\n",
      "0.3763250883392226\n"
     ]
    }
   ],
   "source": [
    "print(ratings['lid'].value_counts())\n",
    "print(10751/(10751+11841))\n",
    "print(426/(426+706))"
   ]
  },
  {
   "cell_type": "markdown",
   "metadata": {},
   "source": [
    "## Geen lid\n",
    "Zoals we zien zijn er genoeg mensen die nog een rating hebben, maar geen lid meer zijn van de schaakbond. Het is interessant om te zien dat bij de vrouwen met een rating bijna tweederde gestopt is. Terwijl bij de mannen dit aantal dichter bij de 50% ligt.\n",
    "\n",
    "Verder is het handig om de 'lid en geslacht kolom' te scheiden."
   ]
  },
  {
   "cell_type": "code",
   "execution_count": 14,
   "metadata": {
    "ExecuteTime": {
     "end_time": "2020-07-12T20:25:45.583642Z",
     "start_time": "2020-07-12T20:25:45.544733Z"
    }
   },
   "outputs": [
    {
     "data": {
      "text/html": [
       "<div>\n",
       "<style scoped>\n",
       "    .dataframe tbody tr th:only-of-type {\n",
       "        vertical-align: middle;\n",
       "    }\n",
       "\n",
       "    .dataframe tbody tr th {\n",
       "        vertical-align: top;\n",
       "    }\n",
       "\n",
       "    .dataframe thead th {\n",
       "        text-align: right;\n",
       "    }\n",
       "</style>\n",
       "<table border=\"1\" class=\"dataframe\">\n",
       "  <thead>\n",
       "    <tr style=\"text-align: right;\">\n",
       "      <th></th>\n",
       "      <th>ID</th>\n",
       "      <th>naam</th>\n",
       "      <th>titel</th>\n",
       "      <th>nat.</th>\n",
       "      <th>rating</th>\n",
       "      <th>tot_partijen</th>\n",
       "      <th>geb_jr</th>\n",
       "      <th>lid</th>\n",
       "      <th>geslacht</th>\n",
       "    </tr>\n",
       "  </thead>\n",
       "  <tbody>\n",
       "    <tr>\n",
       "      <th>0</th>\n",
       "      <td>8744791</td>\n",
       "      <td>Aafjes, Daan</td>\n",
       "      <td></td>\n",
       "      <td>NED</td>\n",
       "      <td>1138</td>\n",
       "      <td>84</td>\n",
       "      <td>1973</td>\n",
       "      <td></td>\n",
       "      <td>man</td>\n",
       "    </tr>\n",
       "    <tr>\n",
       "      <th>1</th>\n",
       "      <td>7998903</td>\n",
       "      <td>Aafjes, Dirk</td>\n",
       "      <td></td>\n",
       "      <td>NED</td>\n",
       "      <td>1393</td>\n",
       "      <td>100</td>\n",
       "      <td>1962</td>\n",
       "      <td></td>\n",
       "      <td>man</td>\n",
       "    </tr>\n",
       "    <tr>\n",
       "      <th>2</th>\n",
       "      <td>7107089</td>\n",
       "      <td>Aafjes, Kees</td>\n",
       "      <td></td>\n",
       "      <td>NED</td>\n",
       "      <td>945</td>\n",
       "      <td>54</td>\n",
       "      <td>1939</td>\n",
       "      <td>Geen (rating)lid</td>\n",
       "      <td>man</td>\n",
       "    </tr>\n",
       "    <tr>\n",
       "      <th>3</th>\n",
       "      <td>8498083</td>\n",
       "      <td>Aafjes, Remi</td>\n",
       "      <td></td>\n",
       "      <td>NED</td>\n",
       "      <td>1547</td>\n",
       "      <td>100</td>\n",
       "      <td>1997</td>\n",
       "      <td></td>\n",
       "      <td>man</td>\n",
       "    </tr>\n",
       "    <tr>\n",
       "      <th>4</th>\n",
       "      <td>7609844</td>\n",
       "      <td>Aagaard, Michael</td>\n",
       "      <td></td>\n",
       "      <td>NED</td>\n",
       "      <td>2030</td>\n",
       "      <td>100</td>\n",
       "      <td>1960</td>\n",
       "      <td></td>\n",
       "      <td>man</td>\n",
       "    </tr>\n",
       "  </tbody>\n",
       "</table>\n",
       "</div>"
      ],
      "text/plain": [
       "        ID              naam titel nat. rating  tot_partijen geb_jr  \\\n",
       "0  8744791      Aafjes, Daan        NED   1138            84   1973   \n",
       "1  7998903      Aafjes, Dirk        NED   1393           100   1962   \n",
       "2  7107089      Aafjes, Kees        NED    945            54   1939   \n",
       "3  8498083      Aafjes, Remi        NED   1547           100   1997   \n",
       "4  7609844  Aagaard, Michael        NED   2030           100   1960   \n",
       "\n",
       "                lid geslacht  \n",
       "0                        man  \n",
       "1                        man  \n",
       "2  Geen (rating)lid      man  \n",
       "3                        man  \n",
       "4                        man  "
      ]
     },
     "execution_count": 14,
     "metadata": {},
     "output_type": "execute_result"
    }
   ],
   "source": [
    "#We maken een nieuwe kolom voor geslacht en definieren een functie daarvoor.\n",
    "def geslacht(x):\n",
    "    if x =='Geen (rating)lid,w':\n",
    "        return 'vrouw'\n",
    "    elif x == 'w':\n",
    "        return 'vrouw'\n",
    "    else:\n",
    "        return 'man'\n",
    "ratings['geslacht'] = ratings['lid'].apply(geslacht)\n",
    "ratings.head()"
   ]
  },
  {
   "cell_type": "code",
   "execution_count": 15,
   "metadata": {
    "ExecuteTime": {
     "end_time": "2020-07-12T20:25:45.762706Z",
     "start_time": "2020-07-12T20:25:45.586793Z"
    }
   },
   "outputs": [
    {
     "data": {
      "text/html": [
       "<div>\n",
       "<style scoped>\n",
       "    .dataframe tbody tr th:only-of-type {\n",
       "        vertical-align: middle;\n",
       "    }\n",
       "\n",
       "    .dataframe tbody tr th {\n",
       "        vertical-align: top;\n",
       "    }\n",
       "\n",
       "    .dataframe thead th {\n",
       "        text-align: right;\n",
       "    }\n",
       "</style>\n",
       "<table border=\"1\" class=\"dataframe\">\n",
       "  <thead>\n",
       "    <tr style=\"text-align: right;\">\n",
       "      <th></th>\n",
       "      <th>ID</th>\n",
       "      <th>naam</th>\n",
       "      <th>titel</th>\n",
       "      <th>nat.</th>\n",
       "      <th>rating</th>\n",
       "      <th>tot_partijen</th>\n",
       "      <th>geb_jr</th>\n",
       "      <th>lid</th>\n",
       "      <th>geslacht</th>\n",
       "    </tr>\n",
       "  </thead>\n",
       "  <tbody>\n",
       "    <tr>\n",
       "      <th>0</th>\n",
       "      <td>8744791</td>\n",
       "      <td>Aafjes, Daan</td>\n",
       "      <td></td>\n",
       "      <td>NED</td>\n",
       "      <td>1138</td>\n",
       "      <td>84</td>\n",
       "      <td>1973</td>\n",
       "      <td>1</td>\n",
       "      <td>man</td>\n",
       "    </tr>\n",
       "    <tr>\n",
       "      <th>1</th>\n",
       "      <td>7998903</td>\n",
       "      <td>Aafjes, Dirk</td>\n",
       "      <td></td>\n",
       "      <td>NED</td>\n",
       "      <td>1393</td>\n",
       "      <td>100</td>\n",
       "      <td>1962</td>\n",
       "      <td>1</td>\n",
       "      <td>man</td>\n",
       "    </tr>\n",
       "    <tr>\n",
       "      <th>2</th>\n",
       "      <td>7107089</td>\n",
       "      <td>Aafjes, Kees</td>\n",
       "      <td></td>\n",
       "      <td>NED</td>\n",
       "      <td>945</td>\n",
       "      <td>54</td>\n",
       "      <td>1939</td>\n",
       "      <td>0</td>\n",
       "      <td>man</td>\n",
       "    </tr>\n",
       "    <tr>\n",
       "      <th>3</th>\n",
       "      <td>8498083</td>\n",
       "      <td>Aafjes, Remi</td>\n",
       "      <td></td>\n",
       "      <td>NED</td>\n",
       "      <td>1547</td>\n",
       "      <td>100</td>\n",
       "      <td>1997</td>\n",
       "      <td>1</td>\n",
       "      <td>man</td>\n",
       "    </tr>\n",
       "    <tr>\n",
       "      <th>4</th>\n",
       "      <td>7609844</td>\n",
       "      <td>Aagaard, Michael</td>\n",
       "      <td></td>\n",
       "      <td>NED</td>\n",
       "      <td>2030</td>\n",
       "      <td>100</td>\n",
       "      <td>1960</td>\n",
       "      <td>1</td>\n",
       "      <td>man</td>\n",
       "    </tr>\n",
       "  </tbody>\n",
       "</table>\n",
       "</div>"
      ],
      "text/plain": [
       "        ID              naam titel nat. rating  tot_partijen geb_jr  lid  \\\n",
       "0  8744791      Aafjes, Daan        NED   1138            84   1973    1   \n",
       "1  7998903      Aafjes, Dirk        NED   1393           100   1962    1   \n",
       "2  7107089      Aafjes, Kees        NED    945            54   1939    0   \n",
       "3  8498083      Aafjes, Remi        NED   1547           100   1997    1   \n",
       "4  7609844  Aagaard, Michael        NED   2030           100   1960    1   \n",
       "\n",
       "  geslacht  \n",
       "0      man  \n",
       "1      man  \n",
       "2      man  \n",
       "3      man  \n",
       "4      man  "
      ]
     },
     "execution_count": 15,
     "metadata": {},
     "output_type": "execute_result"
    }
   ],
   "source": [
    "#nu even de lid kolom opruimen.\n",
    "ratings['lid'] = ratings['lid'].str.replace('w','').str.replace(',','').str.replace('Geen (rating)lid','0').str.replace('', '1')\n",
    "ratings['lid'] = ratings['lid'].apply(lambda x: 1 if x=='1' else 0) #De functie hierboven werkte niet ideaal, dus een aanpassing.\n",
    "ratings.head()"
   ]
  },
  {
   "cell_type": "code",
   "execution_count": 16,
   "metadata": {
    "ExecuteTime": {
     "end_time": "2020-07-12T20:25:45.814180Z",
     "start_time": "2020-07-12T20:25:45.767405Z"
    }
   },
   "outputs": [],
   "source": [
    "#Buitenlanders, ik ben geïnteresseerd in de nederlanders, vandaar dat ik de buitenlanders verwijder.\n",
    "ratings = ratings[ratings['nat.'] == 'NED']"
   ]
  },
  {
   "cell_type": "code",
   "execution_count": 17,
   "metadata": {
    "ExecuteTime": {
     "end_time": "2020-07-12T20:25:45.855811Z",
     "start_time": "2020-07-12T20:25:45.815178Z"
    }
   },
   "outputs": [],
   "source": [
    "ratings[ratings['geb_jr'] == ''].index #Bij het converteren naar int liep ik tegen 30 lege waardes aan. Laten we die verwijderen.\n",
    "ratings = ratings.drop(ratings[ratings['geb_jr'] == ''].index)"
   ]
  },
  {
   "cell_type": "code",
   "execution_count": 18,
   "metadata": {
    "ExecuteTime": {
     "end_time": "2020-07-12T20:25:45.899797Z",
     "start_time": "2020-07-12T20:25:45.859440Z"
    }
   },
   "outputs": [],
   "source": [
    "#Verder converteren we alle numerieke data naar `int`\n",
    "ratings['rating'] = ratings['rating'].astype(int)\n",
    "ratings['tot_partijen'] = ratings['tot_partijen'].astype(int)\n",
    "ratings['geb_jr'] = ratings['geb_jr'].astype(int)"
   ]
  },
  {
   "cell_type": "markdown",
   "metadata": {},
   "source": [
    "# Vragen\n",
    "Of we verder willen met de data zonder de niet-leden of met de niet-leden ligt aan de vragen die we stellen aan de data. \n",
    "Hier een aantal vragen die we kunnen stellen mbt lidmaatschap:\n",
    "\n",
    "- Na hoeveel partijen stopt het gemiddelde niet-lid?\n",
    "- Wat is de leeftijd van een niet-lid, en zouden ze overleden kunnen zijn?\n",
    "- Hebben niet-leden een hogere gemiddelde rating dan wel leden?\n",
    "\n",
    "### Overige vragen\n",
    "- Wat is de verdeling van de rating van de leden?\n",
    "- Wat is het leeftijdsverloop van de leden? Leven schakers langer dan gemiddeld?\n",
    "- Is er een verschil in het leeftijdverloop van de mannen en de vrouwen?\n",
    "- Wat is de gemiddelde leeftijd van de respectievelijke titelhouders?\n",
    "- Wat is de gemiddelde rating van de titelhouders?\n",
    "- Spelen mensen met lage ratings minder partijen?\n",
    "\n",
    "### Onduidelijkheden\n",
    "Het is niet duidelijk wanneer de niet-leden worden verwijderd uit de lijst. En óf ze wel worden verwijderd uit de lijst. \n",
    "We kunnen daardoor minder vragen beantwoorden over de niet-leden. Vandaar dat ik eerst de vragen over niet-leden beantwoord en vervolgens de data orden."
   ]
  },
  {
   "cell_type": "code",
   "execution_count": 19,
   "metadata": {
    "ExecuteTime": {
     "end_time": "2020-07-12T20:25:45.926525Z",
     "start_time": "2020-07-12T20:25:45.904098Z"
    }
   },
   "outputs": [],
   "source": [
    "#We scheiden de datasets in twee nieuwe variabelen.\n",
    "leden = ratings[ratings['lid']==1]\n",
    "niet_leden = ratings[ratings['lid']==0]"
   ]
  },
  {
   "cell_type": "code",
   "execution_count": 20,
   "metadata": {
    "ExecuteTime": {
     "end_time": "2020-07-12T20:25:45.943838Z",
     "start_time": "2020-07-12T20:25:45.930511Z"
    }
   },
   "outputs": [
    {
     "data": {
      "text/plain": [
       "35.26918771985929"
      ]
     },
     "execution_count": 20,
     "metadata": {},
     "output_type": "execute_result"
    }
   ],
   "source": [
    "niet_leden['tot_partijen'].mean()"
   ]
  },
  {
   "cell_type": "code",
   "execution_count": 21,
   "metadata": {
    "ExecuteTime": {
     "end_time": "2020-07-12T20:25:45.967586Z",
     "start_time": "2020-07-12T20:25:45.947872Z"
    }
   },
   "outputs": [
    {
     "data": {
      "text/plain": [
       "80.73707257989379"
      ]
     },
     "execution_count": 21,
     "metadata": {},
     "output_type": "execute_result"
    }
   ],
   "source": [
    "leden['tot_partijen'].mean()"
   ]
  },
  {
   "cell_type": "markdown",
   "metadata": {},
   "source": [
    "Het resultaat is vrij significant, de schakers die geen lid meer zijn hebben veel minder partijen gespeeld dan de wel leden. Daarbij moet men ook nog bedenken dat 100 eigenlijk 100+ is. Dus de niet leden hebben niet veel partijen gespeeld terwijl ze actief waren."
   ]
  },
  {
   "cell_type": "code",
   "execution_count": 22,
   "metadata": {
    "ExecuteTime": {
     "end_time": "2020-07-12T20:25:48.950744Z",
     "start_time": "2020-07-12T20:25:45.973589Z"
    },
    "scrolled": false
   },
   "outputs": [
    {
     "data": {
      "image/png": "[encoded data removed]",
      "text/plain": [
       "<Figure size 1080x576 with 1 Axes>"
      ]
     },
     "metadata": {
      "needs_background": "light"
     },
     "output_type": "display_data"
    }
   ],
   "source": [
    "import seaborn as sns\n",
    "%matplotlib inline\n",
    "niet_leden['geb_jr'].plot.kde(figsize = (15,8), label='niet leden')\n",
    "leden['geb_jr'].plot.kde(label='leden')\n",
    "plt.legend()\n",
    "plt.title(label='De geboortejaren van de leden vs. niet-leden')\n",
    "plt.ylabel('proporties')\n",
    "plt.xlabel('geboortejaar')\n",
    "plt.xlim(1900,2020)\n",
    "plt.xticks([1900,1910,1920,1930,1940,1950,1960,1970,1980,1990,2000,2010,2020])\n",
    "plt.show()"
   ]
  },
  {
   "cell_type": "markdown",
   "metadata": {},
   "source": [
    "## Overleden niet-leden en gestopte millenials\n",
    "Als er iets duidelijk is is dat de niet-leden 10 tot 15 jaar ouder zijn dan de leden, ik vermoed dat de oorzaak daarvan is dat op een bepaalde leeftijd schaken niet meer mogelijk is en dat men dan niet meer lid blijft van de club en de schaakbond. Daarna controleert de schaakbond niet of de oud-ratinghouders overleden zijn. Er staan namelijk nog steeds mensen in met het geboortejaar onder 1910!\n",
    "\n",
    "Daarna zien we een grote piek in leden met het geboortejaar tussen 1947 en 1965. Deze generatie heeft nog steeds meer leden dan niet-leden in de ratinglijst. \n",
    "\n",
    "Wat verder opvalt is de meest rechtse blauwe piek rond 1989/1990. Daar is een grote groep lid geweest van de schaakbond, maar ook opgehouden. Er is iets gebeurd waardoor deze 'millenials' voor een groot aantal gestopt zijn. Verder zien we ook dat het ledenaantal met een rating steeds verder afneemt. Op het einde lijkt het alsof er wellicht 5 jarige kinderen zijn met een rating, maar dat is een kleine fout van de grafiek om mooi te blijven tekenen. Om dit en andere zaken beter te laten zien rekenen we verder in procenten."
   ]
  },
  {
   "cell_type": "code",
   "execution_count": 23,
   "metadata": {
    "ExecuteTime": {
     "end_time": "2020-07-12T20:25:49.069733Z",
     "start_time": "2020-07-12T20:25:48.956875Z"
    }
   },
   "outputs": [],
   "source": [
    "import warnings\n",
    "warnings.filterwarnings('ignore')\n",
    "\n",
    "\n",
    "#Ik wil graag de frequenties per decennium laten zien. \n",
    "#Daarvoor rond ik de jaren eerst even af door het laatste cijfer te vervangen door een 0\n",
    "niet_leden['geb_dec'] = (niet_leden['geb_jr'].astype(str).str[:3].astype(int)*10).copy()\n",
    "leden['geb_dec'] = (leden['geb_jr'].astype(str).str[:3].astype(int)*10).copy()"
   ]
  },
  {
   "cell_type": "code",
   "execution_count": 24,
   "metadata": {
    "ExecuteTime": {
     "end_time": "2020-07-12T20:25:49.093705Z",
     "start_time": "2020-07-12T20:25:49.073293Z"
    }
   },
   "outputs": [
    {
     "data": {
      "text/plain": [
       "1910     0.367765\n",
       "1920     3.933483\n",
       "1930     8.954269\n",
       "1940    11.400704\n",
       "1950    15.677966\n",
       "1960    15.733930\n",
       "1970    11.984330\n",
       "1980    13.999041\n",
       "1990    15.070355\n",
       "2000     2.878158\n",
       "Name: geb_dec, dtype: float64"
      ]
     },
     "execution_count": 24,
     "metadata": {},
     "output_type": "execute_result"
    }
   ],
   "source": [
    "#Hieronder de geboortepercentages van de niet-leden. Let op 1960 = 1960-1970 etc.\n",
    "niet_leden['geb_dec'].value_counts(normalize=True).sort_index()*100"
   ]
  },
  {
   "cell_type": "code",
   "execution_count": 25,
   "metadata": {
    "ExecuteTime": {
     "end_time": "2020-07-12T20:25:49.121040Z",
     "start_time": "2020-07-12T20:25:49.098011Z"
    }
   },
   "outputs": [
    {
     "data": {
      "text/plain": [
       "1920     0.540389\n",
       "1930     4.788969\n",
       "1940    16.817292\n",
       "1950    23.777136\n",
       "1960    20.711823\n",
       "1970    11.823349\n",
       "1980     8.478524\n",
       "1990     7.407062\n",
       "2000     5.562285\n",
       "2010     0.093171\n",
       "Name: geb_dec, dtype: float64"
      ]
     },
     "execution_count": 25,
     "metadata": {},
     "output_type": "execute_result"
    }
   ],
   "source": [
    "#en de percentages van de leden. Let op 1960 = 1960-1970 etc.\n",
    "leden['geb_dec'].value_counts(normalize=True).sort_index()*100"
   ]
  },
  {
   "cell_type": "code",
   "execution_count": 26,
   "metadata": {
    "ExecuteTime": {
     "end_time": "2020-07-12T20:25:49.153377Z",
     "start_time": "2020-07-12T20:25:49.125009Z"
    }
   },
   "outputs": [
    {
     "data": {
      "text/plain": [
       "1920      56\n",
       "1930     498\n",
       "1940    1779\n",
       "1950    2510\n",
       "1960    2154\n",
       "1970    1227\n",
       "1980     871\n",
       "1990     741\n",
       "2000     508\n",
       "2010       7\n",
       "Name: geb_dec, dtype: int64"
      ]
     },
     "execution_count": 26,
     "metadata": {},
     "output_type": "execute_result"
    }
   ],
   "source": [
    "#Tot slot, laten we inzoomen op de mannen van 1920 tot 1940\n",
    "leden[leden['geslacht']=='man']['geb_dec'].value_counts().sort_index()"
   ]
  },
  {
   "cell_type": "code",
   "execution_count": 27,
   "metadata": {
    "ExecuteTime": {
     "end_time": "2020-07-12T20:25:49.169933Z",
     "start_time": "2020-07-12T20:25:49.156368Z"
    }
   },
   "outputs": [
    {
     "name": "stdout",
     "output_type": "stream",
     "text": [
      "1495.2655900223856\n"
     ]
    },
    {
     "data": {
      "text/plain": [
       "1626.8033168731947"
      ]
     },
     "execution_count": 27,
     "metadata": {},
     "output_type": "execute_result"
    }
   ],
   "source": [
    "#Laten we nu de gemiddelde rating vergelijken van de leden en niet-leden.\n",
    "print(niet_leden['rating'].mean())\n",
    "leden['rating'].mean()"
   ]
  },
  {
   "cell_type": "markdown",
   "metadata": {},
   "source": [
    "De gemiddelde rating van het niet-lid ligt 130 punten lager. Dat is begrijpelijk, want de sterkste spelers blijven meestal lid!\n",
    "\n",
    "## Ouder door schaken?\n",
    "Vanuit de tabellen kunnen we meten hoeveel mensen er tussen de 80 en ouder zijn. Wie weet wordt men van schaken wel ouder! \n",
    "[hier](https://www.cbs.nl/nl-nl/achtergrond/2018/35/mannen-en-vrouwen-per-leeftijdsgroep) kunnen we zien dat er in 2018 295,473 mannen ouder waren dan 80. Van de in totaal 8,5 miljoen mannen. In onze leden data zien we dat er 572 leden 80+ zijn. Dat is ongeveer 5.5% van alle mannelijke schakers.\n",
    "\n",
    "Laten we nu met deze cijfers rekenen wat de verhoudingen zijn. Uiteindelijk kunnen we natuurlijk nooit met zekerheid zeggen of schakers ouder worden, maar we kunnen wel zeggen dat er verhoudingsgewijs meer schakers van 80+ een rating hebben dan in de bevolking. Het verschil is ongeveer 2% zoals we hieronder kunnen zien. Echter dit kan ook veroorzaakt worden doordat er minder jonge mensen schaken. Uiteindelijk is het aantal schakers van 80+ maar 0.2% van de mannen van 80+. "
   ]
  },
  {
   "cell_type": "code",
   "execution_count": 28,
   "metadata": {
    "ExecuteTime": {
     "end_time": "2020-07-12T20:25:49.195929Z",
     "start_time": "2020-07-12T20:25:49.173377Z"
    }
   },
   "outputs": [
    {
     "name": "stdout",
     "output_type": "stream",
     "text": [
      "man 80+ 3.4761529411764704 %\n",
      "man, schaker 80+ 5.526036131774708 %\n"
     ]
    }
   ],
   "source": [
    "#Laten we de ratio's vergelijken\n",
    "schaker_man = len(leden[leden['geslacht']=='man'])\n",
    "man_80_plus = 295473\n",
    "man_nl = 8500000\n",
    "schaker_80_plus = 572\n",
    "\n",
    "print(\"man 80+\",man_80_plus/man_nl*100, '%')\n",
    "print(\"man, schaker 80+\",schaker_80_plus/schaker_man*100, '%')"
   ]
  },
  {
   "cell_type": "code",
   "execution_count": 29,
   "metadata": {
    "ExecuteTime": {
     "end_time": "2020-07-12T20:25:49.211069Z",
     "start_time": "2020-07-12T20:25:49.199167Z"
    }
   },
   "outputs": [
    {
     "name": "stdout",
     "output_type": "stream",
     "text": [
      "schakers 80+/man bevolking 80+ 0.19358790820142618 %\n",
      "schakers man/bevolking man 0.12177647058823529 %\n"
     ]
    }
   ],
   "source": [
    "#en nu de verhoudingen kruisgewijs\n",
    "print(\"schakers 80+/man bevolking 80+\",schaker_80_plus/man_80_plus*100, '%')\n",
    "print(\"schakers man/bevolking man\", schaker_man/man_nl*100,'%')"
   ]
  },
  {
   "cell_type": "code",
   "execution_count": 30,
   "metadata": {
    "ExecuteTime": {
     "end_time": "2020-07-12T20:25:49.767246Z",
     "start_time": "2020-07-12T20:25:49.214732Z"
    }
   },
   "outputs": [
    {
     "data": {
      "image/png": "[encoded data removed]",
      "text/plain": [
       "<Figure size 1080x504 with 1 Axes>"
      ]
     },
     "metadata": {
      "needs_background": "light"
     },
     "output_type": "display_data"
    }
   ],
   "source": [
    "#het laatste wat we kunnen bekijken van de niet leden en de leden is de leeftijden van de vrouwelijke leden.\n",
    "%matplotlib inline\n",
    "niet_leden_vrouw = niet_leden[niet_leden['geslacht']=='vrouw']\n",
    "leden_vrouw = leden[leden['geslacht']=='vrouw']\n",
    "\n",
    "fig, ax = plt.subplots(figsize =(15,7))\n",
    "\n",
    "sns.distplot(niet_leden_vrouw['geb_jr'],kde=False, label='niet leden')\n",
    "sns.distplot(leden_vrouw['geb_jr'],kde=False,label='leden')\n",
    "\n",
    "plt.legend()\n",
    "plt.title(label='De geboortejaren van de vrouwelijke leden vs. vrouwelijke niet-leden')\n",
    "plt.ylabel('proporties')\n",
    "plt.xlabel('geboortejaar')\n",
    "plt.xlim(1920,2020)\n",
    "plt.xticks([1920,1930,1940,1950,1960,1970,1980,1990,2000,2010,2020])\n",
    "plt.show()"
   ]
  },
  {
   "cell_type": "markdown",
   "metadata": {},
   "source": [
    "## Millennial vrouwen stoppen\n",
    "We zien hier ook dat bij de millennials de vrouwen voor een groot deel gestopt zijn. Sterker nog, dit deel is verhoudingsgewijs nog een stuk groter. Verder zien we wel dat de aantallen jonge vrouwen erg groot is in de vrouwelijke ledenpopulatie. Verhoudingsgewijs is dit veel hoger dan bij de mannen. Wat ook wederom laat zien dat vrouwen na hun 20e vaak stoppen.\n",
    "\n",
    "## Mannen vs. Vrouwen\n",
    "Een veel gehoord argument waarom vrouwen lagere ratings hebben dan mannen is dat er nu eenmaal minder vrouwen beginnen met schaken. Wat dat betreft hebben ze dus een kleinere kans om het ver te schoppen. Een interessant experiment is om willekeurige groepen mannen uit de data te nemen, en te kijken of ze gemiddeld een hogere rating hebben. Daarbij neem ik:\n",
    "* Alleen de leden\n",
    "* 100 willekeurige groepen mannelijke leden"
   ]
  },
  {
   "cell_type": "code",
   "execution_count": 31,
   "metadata": {
    "ExecuteTime": {
     "end_time": "2020-07-12T20:25:50.355477Z",
     "start_time": "2020-07-12T20:25:49.771623Z"
    }
   },
   "outputs": [
    {
     "data": {
      "image/png": "[encoded data removed]",
      "text/plain": [
       "<Figure size 720x504 with 1 Axes>"
      ]
     },
     "metadata": {
      "needs_background": "light"
     },
     "output_type": "display_data"
    }
   ],
   "source": [
    "#Hierboven hebben we al een variabele gemaakt leden_vrouw. Laten we dat ook doen voor leden_man.\n",
    "leden_man = leden[leden['geslacht']=='man']\n",
    "gem_rating_vrouw = leden_vrouw['rating'].mean()\n",
    "\n",
    "#Nu genereren we 100 verschillende groepen voor de mannen\n",
    "gem_waarden = []\n",
    "for i in range(100):\n",
    "    steekproef = leden_man.sample(len(leden_vrouw), random_state = i)\n",
    "    gem = steekproef['rating'].sum()/len(steekproef)\n",
    "    gem_waarden.append(gem)\n",
    "    \n",
    "plt.figure(figsize=(10,7))\n",
    "plt.scatter(range(100),y=gem_waarden, label = 'steekproeven')\n",
    "plt.title('Gemiddelde rating steekproef mannen vs. vrouwen')\n",
    "plt.axhline(gem_rating_vrouw, c='orange', label='gem rating vrouw')\n",
    "plt.ylabel('rating')\n",
    "sns.despine(bottom='True')\n",
    "plt.xticks([])\n",
    "plt.ylim((1300,1800))\n",
    "plt.legend()\n",
    "plt.show()"
   ]
  },
  {
   "cell_type": "markdown",
   "metadata": {},
   "source": [
    "Op dit plaatje zien we dat alle steekproeven van willekeurige mannen uit de ratinglijst een hoger gemiddelde hebben dan de gemiddelde rating van de vrouwen. Dit is opzich niet zo een vreemd resultaat als je bedenkt dat de steekproefgrootte van 428 vrij groot is, wat er voor zorgt dat de steekproeven relatief dichtbij het ware gemiddelde blijven. \n",
    "\n",
    "Zo zou je kunnen redeneren dat de vrouwen ook een deel van de ratinglijst zijn. En dat het gemiddelde dus significant afwijkt voor de groepsgrootte. Het argument dat er te weinig vrouwen zijn die schaken om de absolute top te kunnen bereiken houdt dus geen stand. "
   ]
  },
  {
   "cell_type": "markdown",
   "metadata": {},
   "source": [
    "## Hoe vergaat het de titelhouders?"
   ]
  },
  {
   "cell_type": "code",
   "execution_count": 32,
   "metadata": {
    "ExecuteTime": {
     "end_time": "2020-07-12T20:25:50.407534Z",
     "start_time": "2020-07-12T20:25:50.359082Z"
    }
   },
   "outputs": [
    {
     "data": {
      "text/html": [
       "<div>\n",
       "<style scoped>\n",
       "    .dataframe tbody tr th:only-of-type {\n",
       "        vertical-align: middle;\n",
       "    }\n",
       "\n",
       "    .dataframe tbody tr th {\n",
       "        vertical-align: top;\n",
       "    }\n",
       "\n",
       "    .dataframe thead th {\n",
       "        text-align: right;\n",
       "    }\n",
       "</style>\n",
       "<table border=\"1\" class=\"dataframe\">\n",
       "  <thead>\n",
       "    <tr style=\"text-align: right;\">\n",
       "      <th></th>\n",
       "      <th>rating</th>\n",
       "    </tr>\n",
       "    <tr>\n",
       "      <th>titel</th>\n",
       "      <th></th>\n",
       "    </tr>\n",
       "  </thead>\n",
       "  <tbody>\n",
       "    <tr>\n",
       "      <th></th>\n",
       "      <td>1608.257709</td>\n",
       "    </tr>\n",
       "    <tr>\n",
       "      <th>c</th>\n",
       "      <td>2133.466667</td>\n",
       "    </tr>\n",
       "    <tr>\n",
       "      <th>f</th>\n",
       "      <td>2243.021277</td>\n",
       "    </tr>\n",
       "    <tr>\n",
       "      <th>g</th>\n",
       "      <td>2530.125000</td>\n",
       "    </tr>\n",
       "    <tr>\n",
       "      <th>m</th>\n",
       "      <td>2365.441558</td>\n",
       "    </tr>\n",
       "    <tr>\n",
       "      <th>wg</th>\n",
       "      <td>2269.666667</td>\n",
       "    </tr>\n",
       "    <tr>\n",
       "      <th>wm</th>\n",
       "      <td>2108.875000</td>\n",
       "    </tr>\n",
       "  </tbody>\n",
       "</table>\n",
       "</div>"
      ],
      "text/plain": [
       "            rating\n",
       "titel             \n",
       "       1608.257709\n",
       "c      2133.466667\n",
       "f      2243.021277\n",
       "g      2530.125000\n",
       "m      2365.441558\n",
       "wg     2269.666667\n",
       "wm     2108.875000"
      ]
     },
     "execution_count": 32,
     "metadata": {},
     "output_type": "execute_result"
    }
   ],
   "source": [
    "#Hier maken we een tabel voor de gemiddelden voor de waarden van de titelhouders en niet titelhouders.\n",
    "gem_rating_titel = pd.pivot_table(leden,'rating','titel')\n",
    "gem_rating_titel"
   ]
  },
  {
   "cell_type": "markdown",
   "metadata": {},
   "source": [
    "### Gemiddelde rating titelhouders\n",
    "De gemiddelde rating van de niet-titelhouder is 1608, een normaal getal nog steeds. Opvallend om te zien is dat er maar een titel is met een gemiddelde hoger dan de streefrating voor het behalen van de titel. De grootmeester. Ergens is dat ook wel logisch omdat als een meester hoog boven het gemiddelde zit dat hij dan nog grootmeester kan worden. \n",
    "\n",
    "Nog iets dat opvalt is dat hoe lager de titel hoe verder de gemiddelde rating onder de streefrating ligt. \n",
    "voor CM is dat 2200, FM 2300, IM 2400. (\"Gelukkig zit ik met 2382 boven het gemiddelde van de IM's)\n",
    "\n",
    "Voor de vrouwelijke titels zien we een gemiddelde val van 90 punten onder de streefratings van WGM:2350 en WIM:2200\n",
    "Voor de vrouwen is dit getal minder representatief, er zijn bijvoorbeeld maar twee WIM's nog lid."
   ]
  },
  {
   "cell_type": "markdown",
   "metadata": {},
   "source": [
    "### Leeftijden van de titelhouders"
   ]
  },
  {
   "cell_type": "code",
   "execution_count": 33,
   "metadata": {
    "ExecuteTime": {
     "end_time": "2020-07-12T20:25:50.455913Z",
     "start_time": "2020-07-12T20:25:50.410848Z"
    }
   },
   "outputs": [
    {
     "data": {
      "text/html": [
       "<div>\n",
       "<style scoped>\n",
       "    .dataframe tbody tr th:only-of-type {\n",
       "        vertical-align: middle;\n",
       "    }\n",
       "\n",
       "    .dataframe tbody tr th {\n",
       "        vertical-align: top;\n",
       "    }\n",
       "\n",
       "    .dataframe thead th {\n",
       "        text-align: right;\n",
       "    }\n",
       "</style>\n",
       "<table border=\"1\" class=\"dataframe\">\n",
       "  <thead>\n",
       "    <tr style=\"text-align: right;\">\n",
       "      <th></th>\n",
       "      <th>geb_jr</th>\n",
       "    </tr>\n",
       "    <tr>\n",
       "      <th>titel</th>\n",
       "      <th></th>\n",
       "    </tr>\n",
       "  </thead>\n",
       "  <tbody>\n",
       "    <tr>\n",
       "      <th></th>\n",
       "      <td>1964.215380</td>\n",
       "    </tr>\n",
       "    <tr>\n",
       "      <th>c</th>\n",
       "      <td>1977.600000</td>\n",
       "    </tr>\n",
       "    <tr>\n",
       "      <th>f</th>\n",
       "      <td>1976.638298</td>\n",
       "    </tr>\n",
       "    <tr>\n",
       "      <th>g</th>\n",
       "      <td>1979.843750</td>\n",
       "    </tr>\n",
       "    <tr>\n",
       "      <th>m</th>\n",
       "      <td>1975.194805</td>\n",
       "    </tr>\n",
       "    <tr>\n",
       "      <th>wg</th>\n",
       "      <td>1983.000000</td>\n",
       "    </tr>\n",
       "    <tr>\n",
       "      <th>wm</th>\n",
       "      <td>1976.625000</td>\n",
       "    </tr>\n",
       "  </tbody>\n",
       "</table>\n",
       "</div>"
      ],
      "text/plain": [
       "            geb_jr\n",
       "titel             \n",
       "       1964.215380\n",
       "c      1977.600000\n",
       "f      1976.638298\n",
       "g      1979.843750\n",
       "m      1975.194805\n",
       "wg     1983.000000\n",
       "wm     1976.625000"
      ]
     },
     "execution_count": 33,
     "metadata": {},
     "output_type": "execute_result"
    }
   ],
   "source": [
    "gem_leeftijd_titel = pd.pivot_table(leden,'geb_jr','titel')\n",
    "gem_leeftijd_titel"
   ]
  },
  {
   "cell_type": "markdown",
   "metadata": {},
   "source": [
    "We zien hier dat de gemiddelde titelhouder ongeveer 13 jaar jonger is dan het gemiddelde lid. De grootmeesters, zowel bij de dames als de heren zijn het jongst! De mannelijke IM's zijn gemiddeld het oudste van alle titelhouders."
   ]
  },
  {
   "cell_type": "markdown",
   "metadata": {},
   "source": [
    "## Ratings algemeen\n",
    "Hoe is de rating verdeeld? Laten we dat eens visualiseren."
   ]
  },
  {
   "cell_type": "code",
   "execution_count": 34,
   "metadata": {
    "ExecuteTime": {
     "end_time": "2020-07-12T20:25:51.052279Z",
     "start_time": "2020-07-12T20:25:50.462313Z"
    }
   },
   "outputs": [
    {
     "data": {
      "text/plain": [
       "(700, 2800)"
      ]
     },
     "execution_count": 34,
     "metadata": {},
     "output_type": "execute_result"
    },
    {
     "data": {
      "image/png": "[encoded data removed]",
      "text/plain": [
       "<Figure size 1080x504 with 1 Axes>"
      ]
     },
     "metadata": {
      "needs_background": "light"
     },
     "output_type": "display_data"
    }
   ],
   "source": [
    "fig, ax = plt.subplots(figsize=(15,7))\n",
    "sns.distplot(leden['rating'],kde=False, norm_hist=False).set_title('Rating verdeling KNSB leden')\n",
    "sns.despine()\n",
    "plt.xlim(700,2800)"
   ]
  },
  {
   "cell_type": "markdown",
   "metadata": {},
   "source": [
    "Als het woord \"Bell curve\" nu niks betekent voor je dan weet ik het ook niet meer. Ding-dong! Dit is ook niet zo vreemd, want het hele rating systeem is gemaakt om de schaker in te delen op een normaal verdeelde schaal. "
   ]
  },
  {
   "cell_type": "markdown",
   "metadata": {},
   "source": [
    "## Leeftijd en rating\n",
    "Tot slot kunnen we kijken naar het verband tussen leeftijd en rating. Iedereen weet dat je achteruit gaat als je ouder wordt, maar hoe veel is dat gemiddeld?!"
   ]
  },
  {
   "cell_type": "code",
   "execution_count": 55,
   "metadata": {
    "ExecuteTime": {
     "end_time": "2020-07-13T14:34:45.881660Z",
     "start_time": "2020-07-13T14:34:45.641915Z"
    }
   },
   "outputs": [
    {
     "data": {
      "image/png": "[encoded data removed]",
      "text/plain": [
       "<Figure size 1080x432 with 1 Axes>"
      ]
     },
     "metadata": {
      "needs_background": "light"
     },
     "output_type": "display_data"
    }
   ],
   "source": [
    "#Dit zijn de ratings per uniek geboortejaar\n",
    "pd.pivot_table(leden, 'rating','geb_jr').plot(figsize=(15,6),title='De gemiddelde rating per geboortejaar')\n",
    "plt.xticks(range(1920,2020,10))\n",
    "plt.axvline(1989, color='orange',label=1989)\n",
    "plt.legend()\n",
    "plt.show()"
   ]
  },
  {
   "cell_type": "markdown",
   "metadata": {},
   "source": [
    "Met de verticale lijn is het jaar 1989 aangegeven. Het jaar dat gemiddeld de hoogste rating heeft van alle jaren op dit moment. Een paar dingen die opvallen:\n",
    "* Rating gaat harder omlaag na je 62e verjaardag. \n",
    "* Na een leeftijd van 70 gaat het gemiddelde niet meer veel verder achteruit.\n",
    "* Na 1996 is de gemiddelde rating van de nederlandse schakers hard omlaag gegaan. Wat wil zeggen dat de jeugd gemiddeld minder tijd investeert in het trainen van schaken. Een zorgelijke ontwikkeliking als je beseft dat zij de ambassadeurs van de sport moten worden.\n",
    "\n",
    "Wel interessant dat de achteruitgang van de jeugd direct gelinkt is aan de jaren dat de computer zijn opmars begon te maken en dat gamen leuker begint te worden. Al is dat slechts een mogelijke oorzaak. "
   ]
  },
  {
   "cell_type": "code",
   "execution_count": null,
   "metadata": {},
   "outputs": [],
   "source": []
  }
 ],
 "metadata": {
  "kernelspec": {
   "display_name": "Python 3",
   "language": "python",
   "name": "python3"
  },
  "language_info": {
   "codemirror_mode": {
    "name": "ipython",
    "version": 3
   },
   "file_extension": ".py",
   "mimetype": "text/x-python",
   "name": "python",
   "nbconvert_exporter": "python",
   "pygments_lexer": "ipython3",
   "version": "3.7.6"
  },
  "toc": {
   "base_numbering": 1,
   "nav_menu": {},
   "number_sections": true,
   "sideBar": true,
   "skip_h1_title": false,
   "title_cell": "Table of Contents",
   "title_sidebar": "Contents",
   "toc_cell": false,
   "toc_position": {},
   "toc_section_display": true,
   "toc_window_display": false
  }
 },
 "nbformat": 4,
 "nbformat_minor": 4
}
